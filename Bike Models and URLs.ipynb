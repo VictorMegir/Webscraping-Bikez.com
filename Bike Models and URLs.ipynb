{
 "cells": [
  {
   "cell_type": "markdown",
   "metadata": {},
   "source": [
    "# Webscraping for bike models from Bikez.com."
   ]
  },
  {
   "cell_type": "markdown",
   "metadata": {},
   "source": [
    "### Import necessary depencies."
   ]
  },
  {
   "cell_type": "code",
   "execution_count": 1,
   "metadata": {},
   "outputs": [],
   "source": [
    "from bs4 import BeautifulSoup\n",
    "import requests\n",
    "import pandas as pd"
   ]
  },
  {
   "cell_type": "markdown",
   "metadata": {},
   "source": [
    "### Create a DataFrame with Model Year and URL."
   ]
  },
  {
   "cell_type": "code",
   "execution_count": 2,
   "metadata": {},
   "outputs": [],
   "source": [
    "models = pd.DataFrame(columns=['Model', 'Year', 'URL'])"
   ]
  },
  {
   "cell_type": "markdown",
   "metadata": {},
   "source": [
    "### Get the starting URL. This is a list of years that links to the bike models for each year."
   ]
  },
  {
   "cell_type": "code",
   "execution_count": 3,
   "metadata": {},
   "outputs": [],
   "source": [
    "starting_url = 'https://bikez.com/years/index.php'\n",
    "starting_request = requests.get(starting_url)\n",
    "starting_soup = BeautifulSoup(starting_request.text, 'html.parser')"
   ]
  },
  {
   "cell_type": "markdown",
   "metadata": {},
   "source": [
    "### Get all the years URLs."
   ]
  },
  {
   "cell_type": "code",
   "execution_count": 4,
   "metadata": {},
   "outputs": [],
   "source": [
    "even_years = starting_soup.findAll('td', {'class': 'even'})\n",
    "odd_years = starting_soup.findAll('td', {'class': 'odd'})\n",
    "all_years = even_years + odd_years"
   ]
  },
  {
   "cell_type": "markdown",
   "metadata": {},
   "source": [
    "### For each year do a request and get the data about the models in each year."
   ]
  },
  {
   "cell_type": "code",
   "execution_count": 5,
   "metadata": {},
   "outputs": [],
   "source": [
    "def scrape_year(year_url):\n",
    "    year_request = requests.get(year_url)\n",
    "    year_soup = BeautifulSoup(year_request.text, 'html.parser')\n",
    "    \n",
    "    even_entries = year_soup.findAll('tr', ({'class': 'even'}))\n",
    "    odd_entries = year_soup.findAll('tr', ({'class': 'odd'}))\n",
    "    all_entries = even_entries + odd_entries\n",
    "    \n",
    "    year_models = pd.DataFrame(columns=['Model', 'Year', 'URL'])\n",
    "    index = 0\n",
    "    \n",
    "    for entry in all_entries:\n",
    "        if len(entry) == 1:\n",
    "            model = entry.td.a.text\n",
    "            if model =='': continue\n",
    "            url = 'https://bikez.com' + entry.td.a['href'].split('..')[1]\n",
    "        if len(entry) == 2:\n",
    "            last_td = entry.findAll('td')[-1]\n",
    "            if last_td.has_attr('colspan'):\n",
    "                model = last_td.a.text\n",
    "                if model =='': continue\n",
    "                url = 'https://bikez.com' + last_td.a['href'].split('..')[1]\n",
    "        if len(entry) == 3:\n",
    "            model = entry.td.a.text\n",
    "            if model =='': continue\n",
    "            url = 'https://bikez.com' + entry.td.a['href'].split('..')[1]\n",
    "        \n",
    "        year_models.loc[index] =[model, 0, url]\n",
    "        index += 1\n",
    "    return year_models"
   ]
  },
  {
   "cell_type": "code",
   "execution_count": 6,
   "metadata": {},
   "outputs": [],
   "source": [
    "for year in all_years:\n",
    "    year_url = 'https://bikez.com' + year.a['href'].split('..')[1]\n",
    "    year_models = scrape_year(year_url)\n",
    "    year_models['Year'] = int(year.a.text)\n",
    "    models = models.append(year_models)"
   ]
  },
  {
   "cell_type": "markdown",
   "metadata": {},
   "source": [
    "### Save the DataFrame to a .csv file."
   ]
  },
  {
   "cell_type": "code",
   "execution_count": 7,
   "metadata": {},
   "outputs": [
    {
     "data": {
      "text/html": [
       "<div>\n",
       "<style scoped>\n",
       "    .dataframe tbody tr th:only-of-type {\n",
       "        vertical-align: middle;\n",
       "    }\n",
       "\n",
       "    .dataframe tbody tr th {\n",
       "        vertical-align: top;\n",
       "    }\n",
       "\n",
       "    .dataframe thead th {\n",
       "        text-align: right;\n",
       "    }\n",
       "</style>\n",
       "<table border=\"1\" class=\"dataframe\">\n",
       "  <thead>\n",
       "    <tr style=\"text-align: right;\">\n",
       "      <th></th>\n",
       "      <th>Model</th>\n",
       "      <th>Year</th>\n",
       "      <th>URL</th>\n",
       "    </tr>\n",
       "  </thead>\n",
       "  <tbody>\n",
       "    <tr>\n",
       "      <th>0</th>\n",
       "      <td>Adiva AD3 400</td>\n",
       "      <td>2019</td>\n",
       "      <td>https://bikez.com/motorcycles/adiva_ad3_400_20...</td>\n",
       "    </tr>\n",
       "    <tr>\n",
       "      <th>1</th>\n",
       "      <td>Adly GTA-150</td>\n",
       "      <td>2019</td>\n",
       "      <td>https://bikez.com/motorcycles/adly_gta-150_201...</td>\n",
       "    </tr>\n",
       "    <tr>\n",
       "      <th>2</th>\n",
       "      <td>Aeon 3D-350 R</td>\n",
       "      <td>2019</td>\n",
       "      <td>https://bikez.com/motorcycles/aeon_3d-350_r_20...</td>\n",
       "    </tr>\n",
       "    <tr>\n",
       "      <th>3</th>\n",
       "      <td>Aeon Cobra 220</td>\n",
       "      <td>2019</td>\n",
       "      <td>https://bikez.com/motorcycles/aeon_cobra_220_2...</td>\n",
       "    </tr>\n",
       "    <tr>\n",
       "      <th>4</th>\n",
       "      <td>Aeon Cobra 50</td>\n",
       "      <td>2019</td>\n",
       "      <td>https://bikez.com/motorcycles/aeon_cobra_50_20...</td>\n",
       "    </tr>\n",
       "    <tr>\n",
       "      <th>...</th>\n",
       "      <td>...</td>\n",
       "      <td>...</td>\n",
       "      <td>...</td>\n",
       "    </tr>\n",
       "    <tr>\n",
       "      <th>1</th>\n",
       "      <td>Ariel De Dion Tricycle</td>\n",
       "      <td>1898</td>\n",
       "      <td>https://bikez.com/motorcycles/ariel_de_dion_tr...</td>\n",
       "    </tr>\n",
       "    <tr>\n",
       "      <th>0</th>\n",
       "      <td>Hildebrand-Wolfmüller Motorrad</td>\n",
       "      <td>1896</td>\n",
       "      <td>https://bikez.com/motorcycles/hildebrand-wolfm...</td>\n",
       "    </tr>\n",
       "    <tr>\n",
       "      <th>1</th>\n",
       "      <td>Excelsior Motor Bicycle</td>\n",
       "      <td>1896</td>\n",
       "      <td>https://bikez.com/motorcycles/excelsior_motor_...</td>\n",
       "    </tr>\n",
       "    <tr>\n",
       "      <th>2</th>\n",
       "      <td>Marks Motor Bike</td>\n",
       "      <td>1896</td>\n",
       "      <td>https://bikez.com/motorcycles/marks_motor_bike...</td>\n",
       "    </tr>\n",
       "    <tr>\n",
       "      <th>0</th>\n",
       "      <td>Hildebrand-Wolfmüller Motorrad</td>\n",
       "      <td>1894</td>\n",
       "      <td>https://bikez.com/motorcycles/hildebrand-wolfm...</td>\n",
       "    </tr>\n",
       "  </tbody>\n",
       "</table>\n",
       "<p>36343 rows × 3 columns</p>\n",
       "</div>"
      ],
      "text/plain": [
       "                             Model  Year  \\\n",
       "0                    Adiva AD3 400  2019   \n",
       "1                     Adly GTA-150  2019   \n",
       "2                    Aeon 3D-350 R  2019   \n",
       "3                   Aeon Cobra 220  2019   \n",
       "4                    Aeon Cobra 50  2019   \n",
       "..                             ...   ...   \n",
       "1           Ariel De Dion Tricycle  1898   \n",
       "0   Hildebrand-Wolfmüller Motorrad  1896   \n",
       "1          Excelsior Motor Bicycle  1896   \n",
       "2                 Marks Motor Bike  1896   \n",
       "0   Hildebrand-Wolfmüller Motorrad  1894   \n",
       "\n",
       "                                                  URL  \n",
       "0   https://bikez.com/motorcycles/adiva_ad3_400_20...  \n",
       "1   https://bikez.com/motorcycles/adly_gta-150_201...  \n",
       "2   https://bikez.com/motorcycles/aeon_3d-350_r_20...  \n",
       "3   https://bikez.com/motorcycles/aeon_cobra_220_2...  \n",
       "4   https://bikez.com/motorcycles/aeon_cobra_50_20...  \n",
       "..                                                ...  \n",
       "1   https://bikez.com/motorcycles/ariel_de_dion_tr...  \n",
       "0   https://bikez.com/motorcycles/hildebrand-wolfm...  \n",
       "1   https://bikez.com/motorcycles/excelsior_motor_...  \n",
       "2   https://bikez.com/motorcycles/marks_motor_bike...  \n",
       "0   https://bikez.com/motorcycles/hildebrand-wolfm...  \n",
       "\n",
       "[36343 rows x 3 columns]"
      ]
     },
     "execution_count": 7,
     "metadata": {},
     "output_type": "execute_result"
    }
   ],
   "source": [
    "models"
   ]
  },
  {
   "cell_type": "code",
   "execution_count": 8,
   "metadata": {},
   "outputs": [],
   "source": [
    "models.to_csv('models.csv', index=False)"
   ]
  },
  {
   "cell_type": "markdown",
   "metadata": {},
   "source": [
    "### Next up, scraping the data from every URL's page."
   ]
  }
 ],
 "metadata": {
  "kernelspec": {
   "display_name": "Python 3",
   "language": "python",
   "name": "python3"
  },
  "language_info": {
   "codemirror_mode": {
    "name": "ipython",
    "version": 3
   },
   "file_extension": ".py",
   "mimetype": "text/x-python",
   "name": "python",
   "nbconvert_exporter": "python",
   "pygments_lexer": "ipython3",
   "version": "3.7.6"
  }
 },
 "nbformat": 4,
 "nbformat_minor": 4
}
